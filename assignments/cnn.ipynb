{
 "cells": [
  {
   "cell_type": "markdown",
   "metadata": {},
   "source": [
    "# Mandatory Assignment 1\n",
    "\n",
    "#### Part II: Convolutional Neural Networks\n",
    "\n",
    "***\n",
    "\n",
    "Please see the description of the assignment in the README file (section 2) <br>\n",
    "**Guide notebook**: [material/cnns_pytorch.ipynb](material/cnns_pytorch.ipynb)\n",
    "\n",
    "Table of contents:\n",
    "1. Activate GPU\n",
    "2. Load data\n",
    "3. Inspect data\n",
    "4. Convolutional neural network (**Where you will implement the CNN**)\n",
    "5. Training hyperparameters (**Where you will add training parameters**)\n",
    "6. Training\n",
    "7. Plot loss and accuracy\n",
    "8. Evaluate\n",
    "\n",
    "***"
   ]
  },
  {
   "cell_type": "code",
   "metadata": {
    "ExecuteTime": {
     "end_time": "2025-03-02T22:14:10.015500Z",
     "start_time": "2025-03-02T22:14:08.281538Z"
    }
   },
   "source": [
    "# Load in relevant libraries, and alias where appropriate\n",
    "import torch\n",
    "import torch.nn as nn\n",
    "import torchvision  # noqa\n",
    "import torchvision.transforms as transforms\n",
    "import torch.nn.functional as F  # noqa\n",
    "\n",
    "import random\n",
    "import numpy as np\n",
    "import os\n",
    "from pathlib import Path"
   ],
   "outputs": [],
   "execution_count": 1
  },
  {
   "cell_type": "markdown",
   "metadata": {},
   "source": [
    "First, a bit of a hack in case your IDE wants to run the notebook from /`assignment/` and not the project root folder `/ma1`. We need the working directory to be `/ma1` for local imports to work."
   ]
  },
  {
   "cell_type": "code",
   "metadata": {
    "ExecuteTime": {
     "end_time": "2025-03-02T22:14:12.628279Z",
     "start_time": "2025-03-02T22:14:12.624982Z"
    }
   },
   "source": [
    "# Ensure the working directory is set to the \"ma1\" folder.\n",
    "while Path.cwd().name != \"ma1\" and \"ma1\" in str(Path.cwd()):\n",
    "    os.chdir(\"..\")  # Move up one directory\n",
    "print(f\"Working directory set to: {Path.cwd()}\")"
   ],
   "outputs": [
    {
     "name": "stdout",
     "output_type": "stream",
     "text": [
      "Working directory set to: /Users/christian/AIML25/mas/ma1\n"
     ]
    }
   ],
   "execution_count": 2
  },
  {
   "cell_type": "markdown",
   "metadata": {},
   "source": [
    "The following are local files imported into this notebook. This is one of the advantages of not using an online notebook like Google Colab or stand-alone notebooks like Jupyter: We can import local files and use them in our code, thus making it easier to manage our code and create a more modular structure.\n",
    "\n",
    "In `/src`, we have the following files:\n",
    "- `utils.py`: Contains utility functions (e.g., setting our device to GPU if available)\n",
    "- `data.py`: Contains functions to load data, train/validation split, and data augmentation\n",
    "- `training.py`: Contains a single but very important function: Our training loop.\n",
    "- `evaluation.py`: Contains functions to evaluate our model and produce a classification report\n",
    "- `visualization.py`: Contains functions to visualize our data and model performance\n",
    "\n",
    "You are encouraged to look at these files to understand how they work. Particularly, the training and evaluation files are important to understand how we train our model and evaluate its performance."
   ]
  },
  {
   "cell_type": "code",
   "metadata": {
    "ExecuteTime": {
     "end_time": "2025-03-02T22:14:23.415168Z",
     "start_time": "2025-03-02T22:14:22.526985Z"
    }
   },
   "source": [
    "# local files\n",
    "from src.utils import get_device\n",
    "from src.data import load_torch_data, to_dataloader, train_val_split\n",
    "from src.training import fit\n",
    "from src.evaluation import evaluate\n",
    "from src.visualize import plot_training_history, plot_probabilities, show_cifar_img"
   ],
   "outputs": [],
   "execution_count": 3
  },
  {
   "cell_type": "markdown",
   "metadata": {},
   "source": [
    "### 1. Activate GPU\n",
    "If available. Note that this is not necessary, but it will speed up your training."
   ]
  },
  {
   "cell_type": "code",
   "metadata": {
    "ExecuteTime": {
     "end_time": "2025-03-02T22:14:26.706140Z",
     "start_time": "2025-03-02T22:14:26.679221Z"
    }
   },
   "source": [
    "device = get_device()  # will default to 'cpu' if gpu is not available."
   ],
   "outputs": [
    {
     "name": "stdout",
     "output_type": "stream",
     "text": [
      "Running pytorch version (2.5.1) with backend = mps\n"
     ]
    }
   ],
   "execution_count": 4
  },
  {
   "cell_type": "markdown",
   "metadata": {},
   "source": [
    "### 2. Load data"
   ]
  },
  {
   "cell_type": "code",
   "metadata": {
    "ExecuteTime": {
     "end_time": "2025-03-02T22:14:34.448656Z",
     "start_time": "2025-03-02T22:14:34.439866Z"
    }
   },
   "source": [
    "batch_size = 64  # number of samples per batch\n",
    "\n",
    "torch.manual_seed(42)  # Set a random seed to ensure reproducibility"
   ],
   "outputs": [
    {
     "data": {
      "text/plain": [
       "<torch._C.Generator at 0x10e8e1f70>"
      ]
     },
     "execution_count": 5,
     "metadata": {},
     "output_type": "execute_result"
    }
   ],
   "execution_count": 5
  },
  {
   "cell_type": "code",
   "metadata": {
    "ExecuteTime": {
     "end_time": "2025-03-02T22:16:08.359567Z",
     "start_time": "2025-03-02T22:15:09.351023Z"
    }
   },
   "source": [
    "# Use transforms.compose method to reformat images for modeling,\n",
    "# and save to variable preprocessing_stepss for later use.\n",
    "# Think of this like sci-kit learn's pipeline method.\n",
    "preprocessing_steps = transforms.Compose(\n",
    "    [\n",
    "        transforms.Resize((32,32)),             # Cifar-10 images are 32x32\n",
    "        transforms.RandomCrop(32, padding=4),   # Data augmentation step: Randomly crop the image to 32x32\n",
    "        transforms.RandomHorizontalFlip(),      # Data augmentation step: Randomly flip image horizontally\n",
    "        transforms.ToTensor(),                  # Convert the image to a pytorch tensor\n",
    "        transforms.Normalize(                   # Normalize the image (i.e. scale the image to have a mean of 0 and a standard deviation of 1)\n",
    "            mean=[0.4914, 0.4822, 0.4465],      # FYI: The mean of the CIFAR10 dataset for your convenience\n",
    "            std=[0.2023, 0.1994, 0.2010]        # FYI the standard deviation of the CIFAR10 dataset\n",
    "        )\n",
    "    ]\n",
    ")\n",
    "\n",
    "# load the training/validation data\n",
    "train_val = load_torch_data(\n",
    "    dataset=\"CIFAR10\",\n",
    "    root = 'data',                     # The root directory where the dataset will be stored\n",
    "    download = True,                   # If the dataset is not found at root, it will be downloaded\n",
    "    train = True,                      # The train dataset (as opposed to the test dataset)\n",
    "    transform = preprocessing_steps  # transformations to be applied to the dataset (see steps above)\n",
    ")\n",
    "\n",
    "# load the testing data\n",
    "test = load_torch_data(\n",
    "    dataset = \"CIFAR10\",\n",
    "    root = 'data',\n",
    "    download = True,\n",
    "    train = False,\n",
    "    transform = preprocessing_steps\n",
    ")\n",
    "\n",
    "f\"{len(train_val)=}, {len(test)=}\"\n"
   ],
   "outputs": [
    {
     "name": "stdout",
     "output_type": "stream",
     "text": [
      "Downloading https://www.cs.toronto.edu/~kriz/cifar-10-python.tar.gz to data/cifar-10-python.tar.gz\n"
     ]
    },
    {
     "name": "stderr",
     "output_type": "stream",
     "text": [
      "100%|██████████| 170M/170M [00:55<00:00, 3.07MB/s] \n"
     ]
    },
    {
     "name": "stdout",
     "output_type": "stream",
     "text": [
      "Extracting data/cifar-10-python.tar.gz to data\n",
      "Files already downloaded and verified\n"
     ]
    },
    {
     "data": {
      "text/plain": [
       "'len(train_val)=50000, len(test)=10000'"
      ]
     },
     "execution_count": 6,
     "metadata": {},
     "output_type": "execute_result"
    }
   ],
   "execution_count": 6
  },
  {
   "cell_type": "code",
   "metadata": {
    "ExecuteTime": {
     "end_time": "2025-03-02T22:16:13.797137Z",
     "start_time": "2025-03-02T22:16:13.788501Z"
    }
   },
   "source": [
    "# split training data in training and validation (just like train_test_split in sklearn)\n",
    "train, val = train_val_split(train_val, val_ratio=0.2, seed=42)\n",
    "\n",
    "f\"{len(val)=}, {len(train)=}\""
   ],
   "outputs": [
    {
     "data": {
      "text/plain": [
       "'len(val)=10000, len(train)=40000'"
      ]
     },
     "execution_count": 7,
     "metadata": {},
     "output_type": "execute_result"
    }
   ],
   "execution_count": 7
  },
  {
   "cell_type": "code",
   "metadata": {
    "ExecuteTime": {
     "end_time": "2025-03-02T22:16:16.381763Z",
     "start_time": "2025-03-02T22:16:16.378733Z"
    }
   },
   "source": [
    "# create dataloders for easy batch loading during training\n",
    "train_loader = to_dataloader(train, batch_size = batch_size, shuffle = True)\n",
    "val_loader = to_dataloader(val, batch_size = batch_size, shuffle = False)\n",
    "test_loader = to_dataloader(test, batch_size = batch_size, shuffle = False)"
   ],
   "outputs": [],
   "execution_count": 8
  },
  {
   "cell_type": "markdown",
   "metadata": {},
   "source": [
    "### 3. Inspect data"
   ]
  },
  {
   "cell_type": "code",
   "metadata": {
    "ExecuteTime": {
     "end_time": "2025-03-02T22:16:29.027844Z",
     "start_time": "2025-03-02T22:16:29.024400Z"
    }
   },
   "source": [
    "train_val, test"
   ],
   "outputs": [
    {
     "data": {
      "text/plain": [
       "(Dataset CIFAR10\n",
       "     Number of datapoints: 50000\n",
       "     Root location: data\n",
       "     Split: Train\n",
       "     StandardTransform\n",
       " Transform: Compose(\n",
       "                Resize(size=(32, 32), interpolation=bilinear, max_size=None, antialias=True)\n",
       "                RandomCrop(size=(32, 32), padding=4)\n",
       "                RandomHorizontalFlip(p=0.5)\n",
       "                ToTensor()\n",
       "                Normalize(mean=[0.4914, 0.4822, 0.4465], std=[0.2023, 0.1994, 0.201])\n",
       "            ),\n",
       " Dataset CIFAR10\n",
       "     Number of datapoints: 10000\n",
       "     Root location: data\n",
       "     Split: Test\n",
       "     StandardTransform\n",
       " Transform: Compose(\n",
       "                Resize(size=(32, 32), interpolation=bilinear, max_size=None, antialias=True)\n",
       "                RandomCrop(size=(32, 32), padding=4)\n",
       "                RandomHorizontalFlip(p=0.5)\n",
       "                ToTensor()\n",
       "                Normalize(mean=[0.4914, 0.4822, 0.4465], std=[0.2023, 0.1994, 0.201])\n",
       "            ))"
      ]
     },
     "execution_count": 9,
     "metadata": {},
     "output_type": "execute_result"
    }
   ],
   "execution_count": 9
  },
  {
   "cell_type": "code",
   "metadata": {
    "ExecuteTime": {
     "end_time": "2025-03-02T22:16:37.092462Z",
     "start_time": "2025-03-02T22:16:37.010730Z"
    }
   },
   "source": [
    "\n",
    "# Pick a random example from the training set\n",
    "classes = train.dataset.classes\n",
    "selection = random.randrange(len(train)-1)\n",
    "image, label = train[selection]\n",
    "\n",
    "show_cifar_img(image, label, classes)"
   ],
   "outputs": [
    {
     "data": {
      "text/plain": [
       "<Figure size 640x480 with 1 Axes>"
      ],
      "image/png": "[encoded data removed]"
     },
     "metadata": {},
     "output_type": "display_data"
    }
   ],
   "execution_count": 10
  },
  {
   "cell_type": "markdown",
   "metadata": {},
   "source": [
    "***"
   ]
  },
  {
   "cell_type": "markdown",
   "metadata": {},
   "source": [
    "### 4. Convolutional neural network"
   ]
  },
  {
   "cell_type": "code",
   "metadata": {
    "ExecuteTime": {
     "end_time": "2025-03-02T22:19:24.576765Z",
     "start_time": "2025-03-02T22:19:24.571659Z"
    }
   },
   "source": [
    "class CNN(nn.Module):\n",
    "    def __init__(self):\n",
    "        super(CNN, self).__init__()\n",
    "\n",
    "        ######################\n",
    "        # Convolutional layers\n",
    "        ######################\n",
    "        # 1st Conv layer: in_channels=3 (RGB), out_channels=32, kernel_size=3, stride=1, padding=1\n",
    "        self.conv1 = nn.Conv2d(in_channels=3, out_channels=32, kernel_size=3, stride=1, padding=1)\n",
    "\n",
    "        # Batch normalization on 32 feature maps\n",
    "        self.bn1 = nn.BatchNorm2d(32)\n",
    "\n",
    "        # 2nd Conv layer: in_channels=32, out_channels=64, kernel_size=3, stride=1, padding=1\n",
    "        self.conv2 = nn.Conv2d(in_channels=32, out_channels=64, kernel_size=3, stride=1, padding=1)\n",
    "\n",
    "        # Batch normalization on 64 feature maps\n",
    "        self.bn2 = nn.BatchNorm2d(64)\n",
    "\n",
    "        # MaxPooling: kernel_size=2, stride=2 => halves H×W from 32×32 to 16×16\n",
    "        self.pool = nn.MaxPool2d(kernel_size=2, stride=2)\n",
    "\n",
    "        # Dropout for regularization (25%)\n",
    "        self.dropout = nn.Dropout(p=0.25)\n",
    "\n",
    "        ######################\n",
    "        # Fully connected layers\n",
    "        ######################\n",
    "        self.flatten = nn.Flatten()\n",
    "\n",
    "        # After the second conv + pool, the feature map is [batch_size, 64, 16, 16]\n",
    "        # So the in_features = 64 * 16 * 16 = 16384\n",
    "        self.fc1 = nn.Linear(in_features=64 * 16 * 16, out_features=512)\n",
    "\n",
    "        # Another linear layer from 512 down to 10 classes\n",
    "        self.fc2 = nn.Linear(in_features=512, out_features=10)\n",
    "\n",
    "        # ReLU activation reused in forward()\n",
    "        self.relu = nn.ReLU()\n",
    "\n",
    "    def forward(self, x):\n",
    "\n",
    "        ######################\n",
    "        # Convolutional forward pass\n",
    "        ######################\n",
    "        # 1st conv block\n",
    "        x = self.conv1(x)\n",
    "        x = self.bn1(x)\n",
    "        x = self.relu(x)\n",
    "\n",
    "        # 2nd conv block\n",
    "        x = self.conv2(x)\n",
    "        x = self.bn2(x)\n",
    "        x = self.relu(x)\n",
    "\n",
    "        # Pooling (halves spatial dimensions) + Dropout\n",
    "        x = self.pool(x)\n",
    "        x = self.dropout(x)\n",
    "\n",
    "        ######################\n",
    "        # Fully connected forward pass\n",
    "        ######################\n",
    "        x = self.flatten(x)     # Flatten [batch, 64, 16, 16] -> [batch, 16384]\n",
    "        x = self.fc1(x)\n",
    "        x = self.relu(x)\n",
    "        x = self.dropout(x)\n",
    "        x = self.fc2(x)\n",
    "\n",
    "        return x"
   ],
   "outputs": [],
   "execution_count": 13
  },
  {
   "cell_type": "markdown",
   "metadata": {},
   "source": [
    "### 5. Training hyperparameters"
   ]
  },
  {
   "cell_type": "code",
   "metadata": {
    "ExecuteTime": {
     "end_time": "2025-03-02T22:21:33.947713Z",
     "start_time": "2025-03-02T22:21:33.942744Z"
    }
   },
   "source": [
    "# Define relevant variables for the ML task\n",
    "LEARNING_RATE = 1e-3 # TODO: Set the learning rate\n",
    "WEIGHT_DECAY = 1e-4 # TODO: Set the weight decay (i.e. L2 regularization)\n",
    "NUM_EPOCHS = 20 # TODO: Set the number of epochs to train the model"
   ],
   "outputs": [],
   "execution_count": 14
  },
  {
   "cell_type": "code",
   "metadata": {
    "ExecuteTime": {
     "end_time": "2025-03-02T22:21:38.427671Z",
     "start_time": "2025-03-02T22:21:38.182269Z"
    }
   },
   "source": [
    "model = CNN().to(device) # FYI; Sends the model to the GPU if set earlier\n",
    "\n",
    "# Set Loss function with criterion\n",
    "criterion = nn.CrossEntropyLoss()\n",
    "\n",
    "# Set optimizer with optimizer\n",
    "optimizer = torch.optim.Adam(model.parameters(), lr = LEARNING_RATE, weight_decay = WEIGHT_DECAY)"
   ],
   "outputs": [],
   "execution_count": 15
  },
  {
   "cell_type": "markdown",
   "metadata": {},
   "source": [
    "### 6. Training"
   ]
  },
  {
   "cell_type": "code",
   "metadata": {
    "ExecuteTime": {
     "end_time": "2025-03-02T22:26:39.085083Z",
     "start_time": "2025-03-02T22:21:44.210375Z"
    }
   },
   "source": [
    "model, history = fit(\n",
    "    model = model,\n",
    "    train_loader = train_loader,\n",
    "    val_loader = val_loader,\n",
    "    optimizer = optimizer,\n",
    "    criterion = criterion,\n",
    "    num_epochs = NUM_EPOCHS,\n",
    "    device = device,\n",
    "    flatten = False  # don't flatten input tensors to 1D before passing to model. Convolutonal layers expect nD.\n",
    ")"
   ],
   "outputs": [
    {
     "name": "stdout",
     "output_type": "stream",
     "text": [
      "Epoch [1/20]: Train Loss: 1.8635 | Train Accuracy: 34.30% | Val Loss: 1.4983 | Val Accuracy: 45.55%\n",
      "Epoch [2/20]: Train Loss: 1.5434 | Train Accuracy: 42.88% | Val Loss: 1.3562 | Val Accuracy: 50.95%\n",
      "Epoch [3/20]: Train Loss: 1.4406 | Train Accuracy: 47.19% | Val Loss: 1.2978 | Val Accuracy: 53.63%\n",
      "Epoch [4/20]: Train Loss: 1.3581 | Train Accuracy: 50.24% | Val Loss: 1.1859 | Val Accuracy: 57.86%\n",
      "Epoch [5/20]: Train Loss: 1.2997 | Train Accuracy: 52.98% | Val Loss: 1.1642 | Val Accuracy: 57.07%\n",
      "Epoch [6/20]: Train Loss: 1.2657 | Train Accuracy: 54.27% | Val Loss: 1.1392 | Val Accuracy: 59.20%\n",
      "Epoch [7/20]: Train Loss: 1.2340 | Train Accuracy: 55.58% | Val Loss: 1.0635 | Val Accuracy: 61.56%\n",
      "Epoch [8/20]: Train Loss: 1.2092 | Train Accuracy: 56.55% | Val Loss: 1.0549 | Val Accuracy: 63.14%\n",
      "Epoch [9/20]: Train Loss: 1.1825 | Train Accuracy: 57.41% | Val Loss: 1.0535 | Val Accuracy: 63.27%\n",
      "Epoch [10/20]: Train Loss: 1.1632 | Train Accuracy: 58.66% | Val Loss: 1.0196 | Val Accuracy: 63.84%\n",
      "Epoch [11/20]: Train Loss: 1.1419 | Train Accuracy: 59.12% | Val Loss: 0.9992 | Val Accuracy: 64.37%\n",
      "Epoch [12/20]: Train Loss: 1.1315 | Train Accuracy: 59.70% | Val Loss: 0.9817 | Val Accuracy: 65.72%\n",
      "Epoch [13/20]: Train Loss: 1.1179 | Train Accuracy: 60.18% | Val Loss: 0.9692 | Val Accuracy: 65.29%\n",
      "Epoch [14/20]: Train Loss: 1.1088 | Train Accuracy: 60.47% | Val Loss: 0.9549 | Val Accuracy: 66.34%\n",
      "Epoch [15/20]: Train Loss: 1.0903 | Train Accuracy: 61.06% | Val Loss: 0.9624 | Val Accuracy: 66.18%\n",
      "Epoch [16/20]: Train Loss: 1.0759 | Train Accuracy: 61.78% | Val Loss: 0.9348 | Val Accuracy: 67.22%\n",
      "Epoch [17/20]: Train Loss: 1.0594 | Train Accuracy: 62.45% | Val Loss: 0.9223 | Val Accuracy: 66.91%\n",
      "Epoch [18/20]: Train Loss: 1.0509 | Train Accuracy: 62.67% | Val Loss: 0.8912 | Val Accuracy: 68.23%\n",
      "Epoch [19/20]: Train Loss: 1.0323 | Train Accuracy: 63.56% | Val Loss: 0.9202 | Val Accuracy: 67.84%\n",
      "Epoch [20/20]: Train Loss: 1.0178 | Train Accuracy: 64.16% | Val Loss: 0.9104 | Val Accuracy: 67.95%\n"
     ]
    }
   ],
   "execution_count": 16
  },
  {
   "cell_type": "markdown",
   "metadata": {},
   "source": [
    "### 7. Plot loss and accuracy"
   ]
  },
  {
   "cell_type": "code",
   "metadata": {
    "ExecuteTime": {
     "end_time": "2025-03-02T22:26:43.226550Z",
     "start_time": "2025-03-02T22:26:43.090361Z"
    }
   },
   "source": [
    "plot_training_history(history)"
   ],
   "outputs": [
    {
     "data": {
      "text/plain": [
       "<Figure size 1200x600 with 2 Axes>"
      ],
      "image/png": "[encoded data removed]"
     },
     "metadata": {},
     "output_type": "display_data"
    }
   ],
   "execution_count": 17
  },
  {
   "cell_type": "markdown",
   "metadata": {},
   "source": [
    "### 8. Evaluate"
   ]
  },
  {
   "cell_type": "markdown",
   "metadata": {},
   "source": [
    "Evaluate on training data, validation data and testing data."
   ]
  },
  {
   "cell_type": "code",
   "metadata": {
    "ExecuteTime": {
     "end_time": "2025-03-02T22:26:58.970887Z",
     "start_time": "2025-03-02T22:26:51.894919Z"
    }
   },
   "source": [
    "evaluate(\n",
    "    model = model,\n",
    "    data_loader = train_loader,  # evaluate on training data\n",
    "    device = device,\n",
    "    criterion = criterion,\n",
    "    flatten = False  # don't flatten input tensors to 1D. Convolutonal layers expect nD.\n",
    ")"
   ],
   "outputs": [
    {
     "name": "stdout",
     "output_type": "stream",
     "text": [
      "Evaluation Results:\n",
      "Loss: 0.8674, Accuracy: 69.30%\n",
      "\n",
      "Classification Report:\n",
      "              precision    recall  f1-score   support\n",
      "\n",
      "           0       0.68      0.79      0.73      4027\n",
      "           1       0.87      0.78      0.82      3990\n",
      "           2       0.67      0.47      0.55      3994\n",
      "           3       0.50      0.58      0.54      4033\n",
      "           4       0.57      0.74      0.64      4037\n",
      "           5       0.62      0.51      0.56      3976\n",
      "           6       0.71      0.80      0.75      3975\n",
      "           7       0.82      0.66      0.73      3965\n",
      "           8       0.87      0.75      0.80      4002\n",
      "           9       0.73      0.86      0.79      4001\n",
      "\n",
      "    accuracy                           0.69     40000\n",
      "   macro avg       0.70      0.69      0.69     40000\n",
      "weighted avg       0.70      0.69      0.69     40000\n",
      "\n"
     ]
    }
   ],
   "execution_count": 18
  },
  {
   "cell_type": "markdown",
   "metadata": {},
   "source": [
    "Inspect model predictions"
   ]
  },
  {
   "cell_type": "code",
   "metadata": {
    "ExecuteTime": {
     "end_time": "2025-03-02T22:27:04.637543Z",
     "start_time": "2025-03-02T22:27:02.019567Z"
    }
   },
   "source": [
    "# Get a single image and its label from the test dataset\n",
    "index = np.random.randint(len(test))  # Randomly select an index\n",
    "image, label = test[index]\n",
    "\n",
    "# Prepare the image for prediction\n",
    "model.eval()  # Set the model to evaluation mode\n",
    "with torch.no_grad():\n",
    "    input_image = image.unsqueeze(0).to(device)                     # Add batch dimension and move to device\n",
    "    outputs = model(input_image)                                    # Get model predictions\n",
    "    probabilities = torch.nn.functional.softmax(outputs[0], dim=0)  # Apply softmax to get probabilities\n",
    "\n",
    "plot_probabilities(\n",
    "    image = image,\n",
    "    label = label,\n",
    "    probabilities = probabilities, \n",
    "    classes = test.classes,\n",
    "    n = 5\n",
    ")"
   ],
   "outputs": [
    {
     "data": {
      "text/plain": [
       "<Figure size 800x400 with 3 Axes>"
      ],
      "image/png": "[encoded data removed]"
     },
     "metadata": {},
     "output_type": "display_data"
    }
   ],
   "execution_count": 19
  },
  {
   "cell_type": "code",
   "metadata": {
    "ExecuteTime": {
     "end_time": "2025-03-02T22:27:19.456449Z",
     "start_time": "2025-03-02T22:27:17.261950Z"
    }
   },
   "source": [
    "evaluate(\n",
    "    model = model,\n",
    "    data_loader = val_loader,  # evaluate on validation data\n",
    "    device = device,\n",
    "    criterion = criterion,\n",
    "    flatten = False\n",
    ")"
   ],
   "outputs": [
    {
     "name": "stdout",
     "output_type": "stream",
     "text": [
      "Evaluation Results:\n",
      "Loss: 0.9051, Accuracy: 68.08%\n",
      "\n",
      "Classification Report:\n",
      "              precision    recall  f1-score   support\n",
      "\n",
      "           0       0.66      0.77      0.71       973\n",
      "           1       0.87      0.77      0.82      1010\n",
      "           2       0.66      0.46      0.54      1006\n",
      "           3       0.46      0.54      0.50       967\n",
      "           4       0.53      0.72      0.61       963\n",
      "           5       0.63      0.52      0.57      1024\n",
      "           6       0.74      0.80      0.77      1025\n",
      "           7       0.79      0.63      0.70      1035\n",
      "           8       0.86      0.73      0.79       998\n",
      "           9       0.71      0.88      0.79       999\n",
      "\n",
      "    accuracy                           0.68     10000\n",
      "   macro avg       0.69      0.68      0.68     10000\n",
      "weighted avg       0.69      0.68      0.68     10000\n",
      "\n"
     ]
    }
   ],
   "execution_count": 20
  },
  {
   "cell_type": "code",
   "metadata": {
    "ExecuteTime": {
     "end_time": "2025-03-02T22:27:35.983464Z",
     "start_time": "2025-03-02T22:27:34.235315Z"
    }
   },
   "source": [
    "evaluate(\n",
    "    model = model,\n",
    "    data_loader = test_loader,  # evaluate on testing data\n",
    "    device = device,\n",
    "    criterion = criterion,\n",
    "    flatten = False\n",
    ")"
   ],
   "outputs": [
    {
     "name": "stdout",
     "output_type": "stream",
     "text": [
      "Evaluation Results:\n",
      "Loss: 0.9065, Accuracy: 67.88%\n",
      "\n",
      "Classification Report:\n",
      "              precision    recall  f1-score   support\n",
      "\n",
      "           0       0.65      0.77      0.70      1000\n",
      "           1       0.85      0.77      0.81      1000\n",
      "           2       0.64      0.43      0.52      1000\n",
      "           3       0.49      0.56      0.52      1000\n",
      "           4       0.57      0.72      0.63      1000\n",
      "           5       0.62      0.52      0.56      1000\n",
      "           6       0.71      0.82      0.76      1000\n",
      "           7       0.81      0.65      0.72      1000\n",
      "           8       0.85      0.71      0.77      1000\n",
      "           9       0.71      0.85      0.78      1000\n",
      "\n",
      "    accuracy                           0.68     10000\n",
      "   macro avg       0.69      0.68      0.68     10000\n",
      "weighted avg       0.69      0.68      0.68     10000\n",
      "\n"
     ]
    }
   ],
   "execution_count": 21
  }
 ],
 "metadata": {
  "kernelspec": {
   "display_name": "aiml25-ma1",
   "language": "python",
   "name": "python3"
  },
  "language_info": {
   "codemirror_mode": {
    "name": "ipython",
    "version": 3
   },
   "file_extension": ".py",
   "mimetype": "text/x-python",
   "name": "python",
   "nbconvert_exporter": "python",
   "pygments_lexer": "ipython3",
   "version": "3.13.1"
  }
 },
 "nbformat": 4,
 "nbformat_minor": 2
}

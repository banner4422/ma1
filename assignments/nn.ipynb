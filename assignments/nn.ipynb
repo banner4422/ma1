{
 "cells": [
  {
   "cell_type": "markdown",
   "metadata": {},
   "source": [
    "# Mandatory Assignment 1\n",
    "\n",
    "#### Part I: Multi-layer Perceptron\n",
    "\n",
    "***\n",
    "\n",
    "Please see the description of the assignment in the README file (section 1) <br>\n",
    "**Guide notebook**: [material/nns_pytorch.ipynb](material/nns_pytorch.ipynb)\n",
    "\n",
    "Table of contents:\n",
    "1. Activate GPU\n",
    "2. Load data\n",
    "3. Inspect data\n",
    "4. Artificial neural network (**Where you will implement the ANN**)\n",
    "5. Training hyperparameters (**Where you will add training parameters**)\n",
    "6. Training\n",
    "7. Plot loss and accuracy\n",
    "8. Evaluate\n"
   ]
  },
  {
   "cell_type": "code",
   "metadata": {
    "ExecuteTime": {
     "end_time": "2025-03-02T22:05:26.398076Z",
     "start_time": "2025-03-02T22:05:20.344669Z"
    }
   },
   "source": [
    "# auxilary imports\n",
    "import random\n",
    "import matplotlib.pyplot as plt\n",
    "import os\n",
    "from pathlib import Path\n",
    "\n",
    "# pytorch\n",
    "import torch\n",
    "import torch.nn as nn\n",
    "from torchvision import transforms\n",
    "import torch.nn.functional as F  # noqa"
   ],
   "outputs": [],
   "execution_count": 1
  },
  {
   "cell_type": "markdown",
   "metadata": {},
   "source": [
    "First, a bit of a hack in case your IDE wants to run the notebook from /`assignment/` and not the project root folder `/ma1`. We need the working directory to be `/ma1` for local imports to work."
   ]
  },
  {
   "cell_type": "code",
   "metadata": {
    "ExecuteTime": {
     "end_time": "2025-03-02T22:05:26.410298Z",
     "start_time": "2025-03-02T22:05:26.407392Z"
    }
   },
   "source": [
    "# Ensure the working directory is set to the \"ma1\" folder.\n",
    "while Path.cwd().name != \"ma1\" and \"ma1\" in str(Path.cwd()):\n",
    "    os.chdir(\"..\")  # Move up one directory\n",
    "print(f\"Working directory set to: {Path.cwd()}\")"
   ],
   "outputs": [
    {
     "name": "stdout",
     "output_type": "stream",
     "text": [
      "Working directory set to: /Users/christian/AIML25/mas/ma1\n"
     ]
    }
   ],
   "execution_count": 2
  },
  {
   "cell_type": "markdown",
   "metadata": {},
   "source": [
    "##### Import local files\n",
    "\n",
    "To declutter the notebooks, your are given a module (`/src`) of useful functions. Please study each one as they contain important code (particularly `src.training` and `src.evaluation`). "
   ]
  },
  {
   "cell_type": "code",
   "metadata": {
    "ExecuteTime": {
     "end_time": "2025-03-02T22:05:28.855023Z",
     "start_time": "2025-03-02T22:05:26.489520Z"
    }
   },
   "source": [
    "# local files\n",
    "from src.utils import get_device\n",
    "from src.data import load_torch_data, to_dataloader, train_val_split\n",
    "from src.training import fit\n",
    "from src.evaluation import evaluate \n",
    "from src.visualize import plot_training_history"
   ],
   "outputs": [],
   "execution_count": 3
  },
  {
   "cell_type": "markdown",
   "metadata": {},
   "source": [
    "### 1. Activate GPU\n",
    "If available. Note that this is not necessary, but it will speed up your training."
   ]
  },
  {
   "cell_type": "code",
   "metadata": {
    "ExecuteTime": {
     "end_time": "2025-03-02T22:05:28.893197Z",
     "start_time": "2025-03-02T22:05:28.862365Z"
    }
   },
   "source": [
    "# Device will determine whether to run the training on GPU or CPU.\n",
    "DEVICE = get_device()"
   ],
   "outputs": [
    {
     "name": "stdout",
     "output_type": "stream",
     "text": [
      "Running pytorch version (2.5.1) with backend = mps\n"
     ]
    }
   ],
   "execution_count": 4
  },
  {
   "cell_type": "markdown",
   "metadata": {},
   "source": [
    "### 2. Load data"
   ]
  },
  {
   "cell_type": "code",
   "metadata": {
    "ExecuteTime": {
     "end_time": "2025-03-02T22:05:28.941904Z",
     "start_time": "2025-03-02T22:05:28.905955Z"
    }
   },
   "source": [
    "# load the training/validation data\n",
    "train_val = load_torch_data(\n",
    "    dataset=\"MNIST\",\n",
    "    root = 'data',                     # The root directory where the dataset will be stored\n",
    "    download = True,                   # If the dataset is not found at root, it will be downloaded\n",
    "    train = True,                      # The train dataset (as opposed to the test dataset)\n",
    "    transform = transforms.ToTensor()  # transformations to be applied to the dataset (only cast to tensor)\n",
    ")\n",
    "\n",
    "# load the testing data\n",
    "test = load_torch_data(\n",
    "    dataset = \"MNIST\",\n",
    "    root = 'data',\n",
    "    download = True,\n",
    "    train = False,\n",
    "    transform = transforms.ToTensor()\n",
    ")\n",
    "\n",
    "f\"{len(train_val)=}, {len(test)=}\""
   ],
   "outputs": [
    {
     "data": {
      "text/plain": [
       "'len(train_val)=60000, len(test)=10000'"
      ]
     },
     "execution_count": 5,
     "metadata": {},
     "output_type": "execute_result"
    }
   ],
   "execution_count": 5
  },
  {
   "cell_type": "code",
   "metadata": {
    "ExecuteTime": {
     "end_time": "2025-03-02T22:05:28.958429Z",
     "start_time": "2025-03-02T22:05:28.949940Z"
    }
   },
   "source": [
    "# split training data in training and validation (just like train_test_split in sklearn)\n",
    "train, val = train_val_split(train_val, val_ratio=0.2, seed=42)\n",
    "\n",
    "f\"{len(val)=}, {len(train)=}\""
   ],
   "outputs": [
    {
     "data": {
      "text/plain": [
       "'len(val)=12000, len(train)=48000'"
      ]
     },
     "execution_count": 6,
     "metadata": {},
     "output_type": "execute_result"
    }
   ],
   "execution_count": 6
  },
  {
   "cell_type": "code",
   "metadata": {
    "ExecuteTime": {
     "end_time": "2025-03-02T22:05:28.968478Z",
     "start_time": "2025-03-02T22:05:28.965209Z"
    }
   },
   "source": [
    "# create dataloders for easy batch loading during training\n",
    "train_loader = to_dataloader(train, batch_size = 64, shuffle = True)\n",
    "val_loader = to_dataloader(val, batch_size = 64, shuffle = False)\n",
    "test_loader = to_dataloader(test, batch_size = 64, shuffle = False)"
   ],
   "outputs": [],
   "execution_count": 7
  },
  {
   "cell_type": "markdown",
   "metadata": {},
   "source": [
    "### 3. Inspect data"
   ]
  },
  {
   "cell_type": "code",
   "metadata": {
    "ExecuteTime": {
     "end_time": "2025-03-02T22:05:29.084471Z",
     "start_time": "2025-03-02T22:05:28.983303Z"
    }
   },
   "source": [
    "# Pick a random example from the training set\n",
    "selection = random.randrange(len(train)-1)\n",
    "image, label = train[selection]\n",
    "\n",
    "# Plot the image\n",
    "print(f\"Default image shape: {image.shape}\")\n",
    "image = image.view([28,28])\n",
    "\n",
    "print(f\"Reshaped image shape: {image.shape}\")\n",
    "plt.imshow(image, cmap=\"gray\")\n",
    "\n",
    "print(f\"Total pixels: {image.shape[0] * image.shape[1]}\")\n",
    "\n",
    "# Print the label\n",
    "print(f\"The label for this image: {label}\")\n"
   ],
   "outputs": [
    {
     "name": "stdout",
     "output_type": "stream",
     "text": [
      "Default image shape: torch.Size([1, 28, 28])\n",
      "Reshaped image shape: torch.Size([28, 28])\n",
      "Total pixels: 784\n",
      "The label for this image: 1\n"
     ]
    },
    {
     "data": {
      "text/plain": [
       "<Figure size 640x480 with 1 Axes>"
      ],
      "image/png": "[encoded data removed]"
     },
     "metadata": {},
     "output_type": "display_data"
    }
   ],
   "execution_count": 8
  },
  {
   "cell_type": "markdown",
   "metadata": {},
   "source": [
    "***\n",
    "\n",
    "### 4. Artificial neural network"
   ]
  },
  {
   "cell_type": "code",
   "metadata": {
    "ExecuteTime": {
     "end_time": "2025-03-02T22:05:29.095119Z",
     "start_time": "2025-03-02T22:05:29.092620Z"
    }
   },
   "source": [
    "class MLP(nn.Module):\n",
    "\n",
    "  def __init__(self):\n",
    "    super().__init__()\n",
    "\n",
    "    # TODO: define layers\n",
    "    self.fc1 = nn.Linear(28*28, 500) # Why is it 28*28? Because the image is 28x28 pixels. Why is it 500? Because it's a hyperparameter, it is just an arbitrary number\n",
    "    self.fc2 = nn.Linear(500, 10) # Why is it 10? Because you output numbers 0 to 9\n",
    "    self.relu = nn.ReLU()\n",
    "  \n",
    "  def forward(self, x : torch.Tensor):\n",
    "\n",
    "    # TODO: define forward pass\n",
    "    x = self.relu(self.fc1(x))\n",
    "    x = self.fc2(x)\n",
    "\n",
    "    return x"
   ],
   "outputs": [],
   "execution_count": 9
  },
  {
   "cell_type": "markdown",
   "metadata": {},
   "source": [
    "### 5. Training hyperparameters"
   ]
  },
  {
   "cell_type": "code",
   "metadata": {
    "ExecuteTime": {
     "end_time": "2025-03-02T22:13:40.147023Z",
     "start_time": "2025-03-02T22:13:40.141047Z"
    }
   },
   "source": [
    "LR = 0.01  # TODO: define the learning rate. What does the learning rate do? It determines how much the model will change in response to the estimated error each time the model weights are updated\n",
    "NUM_EPOCHS = 30 # TODO: define the number of epochs (i.e. passes over the dataset). An epoch in this context is a full iteration over the dataset\n",
    "criterion = nn.CrossEntropyLoss()  # The loss function"
   ],
   "outputs": [],
   "execution_count": 18
  },
  {
   "cell_type": "markdown",
   "metadata": {},
   "source": [
    "Instantiate the model and optimizer"
   ]
  },
  {
   "cell_type": "code",
   "metadata": {
    "ExecuteTime": {
     "end_time": "2025-03-02T22:13:42.705949Z",
     "start_time": "2025-03-02T22:13:42.688522Z"
    }
   },
   "source": [
    "model = MLP().to(DEVICE)   # Create an instance of the MLP model and move it to device (GPU or CPU)\n",
    "optimizer = torch.optim.SGD(model.parameters(), lr=LR) # The optimizer (here, SGD - you can also try ADAM)"
   ],
   "outputs": [],
   "execution_count": 19
  },
  {
   "cell_type": "code",
   "metadata": {
    "ExecuteTime": {
     "end_time": "2025-03-02T22:13:45.291249Z",
     "start_time": "2025-03-02T22:13:45.287626Z"
    }
   },
   "source": [
    "model"
   ],
   "outputs": [
    {
     "data": {
      "text/plain": [
       "MLP(\n",
       "  (fc1): Linear(in_features=784, out_features=500, bias=True)\n",
       "  (fc2): Linear(in_features=500, out_features=10, bias=True)\n",
       "  (relu): ReLU()\n",
       ")"
      ]
     },
     "execution_count": 20,
     "metadata": {},
     "output_type": "execute_result"
    }
   ],
   "execution_count": 20
  },
  {
   "cell_type": "markdown",
   "metadata": {},
   "source": [
    "### 6. Training"
   ]
  },
  {
   "cell_type": "code",
   "metadata": {
    "ExecuteTime": {
     "end_time": "2025-03-02T22:15:35.153316Z",
     "start_time": "2025-03-02T22:13:47.576966Z"
    }
   },
   "source": [
    "model, history = fit(\n",
    "    model,\n",
    "    train_loader = train_loader,\n",
    "    val_loader = val_loader,\n",
    "    device = DEVICE,\n",
    "    optimizer = optimizer,\n",
    "    criterion = criterion,\n",
    "    num_epochs = NUM_EPOCHS\n",
    ")"
   ],
   "outputs": [
    {
     "name": "stdout",
     "output_type": "stream",
     "text": [
      "Epoch [1/30]: Train Loss: 1.3132 | Train Accuracy: 74.27% | Val Loss: 0.6824 | Val Accuracy: 84.62%\n",
      "Epoch [2/30]: Train Loss: 0.5362 | Train Accuracy: 87.00% | Val Loss: 0.4653 | Val Accuracy: 87.96%\n",
      "Epoch [3/30]: Train Loss: 0.4146 | Train Accuracy: 88.97% | Val Loss: 0.4008 | Val Accuracy: 89.06%\n",
      "Epoch [4/30]: Train Loss: 0.3671 | Train Accuracy: 89.86% | Val Loss: 0.3671 | Val Accuracy: 89.74%\n",
      "Epoch [5/30]: Train Loss: 0.3396 | Train Accuracy: 90.50% | Val Loss: 0.3462 | Val Accuracy: 90.16%\n",
      "Epoch [6/30]: Train Loss: 0.3202 | Train Accuracy: 91.01% | Val Loss: 0.3309 | Val Accuracy: 90.60%\n",
      "Epoch [7/30]: Train Loss: 0.3049 | Train Accuracy: 91.35% | Val Loss: 0.3187 | Val Accuracy: 91.01%\n",
      "Epoch [8/30]: Train Loss: 0.2919 | Train Accuracy: 91.77% | Val Loss: 0.3069 | Val Accuracy: 91.24%\n",
      "Epoch [9/30]: Train Loss: 0.2805 | Train Accuracy: 92.03% | Val Loss: 0.2966 | Val Accuracy: 91.62%\n",
      "Epoch [10/30]: Train Loss: 0.2703 | Train Accuracy: 92.43% | Val Loss: 0.2882 | Val Accuracy: 91.74%\n",
      "Epoch [11/30]: Train Loss: 0.2610 | Train Accuracy: 92.66% | Val Loss: 0.2796 | Val Accuracy: 92.04%\n",
      "Epoch [12/30]: Train Loss: 0.2523 | Train Accuracy: 92.95% | Val Loss: 0.2710 | Val Accuracy: 92.39%\n",
      "Epoch [13/30]: Train Loss: 0.2445 | Train Accuracy: 93.21% | Val Loss: 0.2639 | Val Accuracy: 92.51%\n",
      "Epoch [14/30]: Train Loss: 0.2367 | Train Accuracy: 93.38% | Val Loss: 0.2578 | Val Accuracy: 92.75%\n",
      "Epoch [15/30]: Train Loss: 0.2298 | Train Accuracy: 93.62% | Val Loss: 0.2503 | Val Accuracy: 93.01%\n",
      "Epoch [16/30]: Train Loss: 0.2228 | Train Accuracy: 93.81% | Val Loss: 0.2437 | Val Accuracy: 93.19%\n",
      "Epoch [17/30]: Train Loss: 0.2164 | Train Accuracy: 94.03% | Val Loss: 0.2378 | Val Accuracy: 93.35%\n",
      "Epoch [18/30]: Train Loss: 0.2102 | Train Accuracy: 94.19% | Val Loss: 0.2333 | Val Accuracy: 93.50%\n",
      "Epoch [19/30]: Train Loss: 0.2044 | Train Accuracy: 94.40% | Val Loss: 0.2266 | Val Accuracy: 93.65%\n",
      "Epoch [20/30]: Train Loss: 0.1988 | Train Accuracy: 94.51% | Val Loss: 0.2217 | Val Accuracy: 93.71%\n",
      "Epoch [21/30]: Train Loss: 0.1934 | Train Accuracy: 94.65% | Val Loss: 0.2177 | Val Accuracy: 93.93%\n",
      "Epoch [22/30]: Train Loss: 0.1882 | Train Accuracy: 94.83% | Val Loss: 0.2123 | Val Accuracy: 94.01%\n",
      "Epoch [23/30]: Train Loss: 0.1834 | Train Accuracy: 94.93% | Val Loss: 0.2088 | Val Accuracy: 94.11%\n",
      "Epoch [24/30]: Train Loss: 0.1786 | Train Accuracy: 95.08% | Val Loss: 0.2035 | Val Accuracy: 94.28%\n",
      "Epoch [25/30]: Train Loss: 0.1742 | Train Accuracy: 95.19% | Val Loss: 0.1993 | Val Accuracy: 94.33%\n",
      "Epoch [26/30]: Train Loss: 0.1698 | Train Accuracy: 95.29% | Val Loss: 0.1947 | Val Accuracy: 94.47%\n",
      "Epoch [27/30]: Train Loss: 0.1657 | Train Accuracy: 95.41% | Val Loss: 0.1908 | Val Accuracy: 94.56%\n",
      "Epoch [28/30]: Train Loss: 0.1618 | Train Accuracy: 95.51% | Val Loss: 0.1882 | Val Accuracy: 94.62%\n",
      "Epoch [29/30]: Train Loss: 0.1578 | Train Accuracy: 95.63% | Val Loss: 0.1845 | Val Accuracy: 94.67%\n",
      "Epoch [30/30]: Train Loss: 0.1543 | Train Accuracy: 95.74% | Val Loss: 0.1812 | Val Accuracy: 94.80%\n"
     ]
    }
   ],
   "execution_count": 21
  },
  {
   "cell_type": "markdown",
   "metadata": {},
   "source": [
    "### 7. Plot loss and accuracy"
   ]
  },
  {
   "cell_type": "code",
   "metadata": {
    "ExecuteTime": {
     "end_time": "2025-03-02T22:15:40.275741Z",
     "start_time": "2025-03-02T22:15:40.125442Z"
    }
   },
   "source": [
    "plot_training_history(history)"
   ],
   "outputs": [
    {
     "data": {
      "text/plain": [
       "<Figure size 1200x600 with 2 Axes>"
      ],
      "image/png": "[encoded data removed]"
     },
     "metadata": {},
     "output_type": "display_data"
    }
   ],
   "execution_count": 22
  },
  {
   "cell_type": "markdown",
   "metadata": {},
   "source": [
    "### 8. Evaluate"
   ]
  },
  {
   "cell_type": "code",
   "metadata": {
    "ExecuteTime": {
     "end_time": "2025-03-02T22:15:46.798918Z",
     "start_time": "2025-03-02T22:15:43.658241Z"
    }
   },
   "source": [
    "evaluate(\n",
    "    model = model,\n",
    "    data_loader = train_loader,  # evaluate on training data\n",
    "    criterion = criterion,\n",
    "    device = DEVICE,\n",
    ")"
   ],
   "outputs": [
    {
     "name": "stdout",
     "output_type": "stream",
     "text": [
      "Evaluation Results:\n",
      "Loss: 0.1522, Accuracy: 95.78%\n",
      "\n",
      "Classification Report:\n",
      "              precision    recall  f1-score   support\n",
      "\n",
      "           0       0.97      0.98      0.98      4735\n",
      "           1       0.96      0.99      0.97      5383\n",
      "           2       0.96      0.95      0.96      4762\n",
      "           3       0.95      0.95      0.95      4886\n",
      "           4       0.96      0.95      0.95      4681\n",
      "           5       0.96      0.93      0.95      4368\n",
      "           6       0.96      0.98      0.97      4752\n",
      "           7       0.96      0.97      0.96      4983\n",
      "           8       0.95      0.93      0.94      4674\n",
      "           9       0.93      0.95      0.94      4776\n",
      "\n",
      "    accuracy                           0.96     48000\n",
      "   macro avg       0.96      0.96      0.96     48000\n",
      "weighted avg       0.96      0.96      0.96     48000\n",
      "\n"
     ]
    }
   ],
   "execution_count": 23
  },
  {
   "cell_type": "code",
   "metadata": {
    "ExecuteTime": {
     "end_time": "2025-03-02T22:15:49.321190Z",
     "start_time": "2025-03-02T22:15:48.524288Z"
    }
   },
   "source": [
    "evaluate(\n",
    "    model = model,\n",
    "    data_loader = val_loader,  # evaluate on validation data\n",
    "    criterion = criterion,\n",
    "    device = DEVICE,\n",
    ")"
   ],
   "outputs": [
    {
     "name": "stdout",
     "output_type": "stream",
     "text": [
      "Evaluation Results:\n",
      "Loss: 0.1812, Accuracy: 94.80%\n",
      "\n",
      "Classification Report:\n",
      "              precision    recall  f1-score   support\n",
      "\n",
      "           0       0.96      0.96      0.96      1188\n",
      "           1       0.97      0.98      0.97      1359\n",
      "           2       0.95      0.93      0.94      1196\n",
      "           3       0.93      0.94      0.93      1245\n",
      "           4       0.94      0.94      0.94      1161\n",
      "           5       0.95      0.94      0.94      1053\n",
      "           6       0.96      0.97      0.96      1166\n",
      "           7       0.95      0.97      0.96      1282\n",
      "           8       0.95      0.94      0.95      1177\n",
      "           9       0.92      0.91      0.92      1173\n",
      "\n",
      "    accuracy                           0.95     12000\n",
      "   macro avg       0.95      0.95      0.95     12000\n",
      "weighted avg       0.95      0.95      0.95     12000\n",
      "\n"
     ]
    }
   ],
   "execution_count": 24
  },
  {
   "cell_type": "code",
   "metadata": {
    "ExecuteTime": {
     "end_time": "2025-03-02T22:15:52.132372Z",
     "start_time": "2025-03-02T22:15:51.492769Z"
    }
   },
   "source": [
    "evaluate(\n",
    "    model = model,\n",
    "    data_loader = test_loader,  # evaluate on testing data\n",
    "    criterion = criterion,\n",
    "    device = DEVICE,\n",
    ")"
   ],
   "outputs": [
    {
     "name": "stdout",
     "output_type": "stream",
     "text": [
      "Evaluation Results:\n",
      "Loss: 0.1610, Accuracy: 95.21%\n",
      "\n",
      "Classification Report:\n",
      "              precision    recall  f1-score   support\n",
      "\n",
      "           0       0.96      0.98      0.97       980\n",
      "           1       0.97      0.99      0.98      1135\n",
      "           2       0.96      0.94      0.95      1032\n",
      "           3       0.92      0.96      0.94      1010\n",
      "           4       0.95      0.95      0.95       982\n",
      "           5       0.97      0.91      0.94       892\n",
      "           6       0.95      0.97      0.96       958\n",
      "           7       0.95      0.95      0.95      1028\n",
      "           8       0.95      0.93      0.94       974\n",
      "           9       0.94      0.94      0.94      1009\n",
      "\n",
      "    accuracy                           0.95     10000\n",
      "   macro avg       0.95      0.95      0.95     10000\n",
      "weighted avg       0.95      0.95      0.95     10000\n",
      "\n"
     ]
    }
   ],
   "execution_count": 25
  },
  {
   "cell_type": "code",
   "metadata": {
    "ExecuteTime": {
     "end_time": "2025-03-02T22:06:06.916353Z",
     "start_time": "2025-03-02T22:06:06.914887Z"
    }
   },
   "source": [],
   "outputs": [],
   "execution_count": null
  }
 ],
 "metadata": {
  "kernelspec": {
   "display_name": "aiml25-ma1",
   "language": "python",
   "name": "python3"
  },
  "language_info": {
   "codemirror_mode": {
    "name": "ipython",
    "version": 3
   },
   "file_extension": ".py",
   "mimetype": "text/x-python",
   "name": "python",
   "nbconvert_exporter": "python",
   "pygments_lexer": "ipython3",
   "version": "3.13.1"
  }
 },
 "nbformat": 4,
 "nbformat_minor": 2
}
